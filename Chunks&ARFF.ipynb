{
 "cells": [
  {
   "cell_type": "code",
   "execution_count": 23,
   "metadata": {
    "collapsed": true
   },
   "outputs": [],
   "source": [
    "import pandas as pd\n",
    "from sklearn.utils import shuffle\n",
    "import numpy as np\n",
    "import os\n",
    "import glob\n",
    "import csv"
   ]
  },
  {
   "cell_type": "code",
   "execution_count": 28,
   "metadata": {
    "collapsed": true
   },
   "outputs": [],
   "source": [
    "def chunks(path,nChunks):\n",
    "    df=pd.read_csv(path,sep=',',header=None)\n",
    "    df[df.columns[-1]].replace(0,-1,inplace=True)\n",
    "    df=shuffle(df)    \n",
    "    address, extension = os.path.splitext(path)\n",
    "    train,test = np.split(df, [int(.7*len(df))])\n",
    "    testfile=address+'test'+extension\n",
    "    test.to_csv(testfile,sep=',',index=False,header=None)\n",
    "    tr=np.array_split(train,nChunks)\n",
    "    te=np.array_split(test,nChunks)\n",
    "    for i in range(len(tr)):\n",
    "        filenameTrain=address+'_train'+str(i)+extension\n",
    "        filenameTest=address+'_test'+str(i)+extension\n",
    "        tr[i].to_csv(filenameTrain,sep=',',index=False,header=None)\n",
    "        te[i].to_csv(filenameTest,sep=',',index=False,header=None)\n",
    "    print('Chunks made')\n",
    "    return address"
   ]
  },
  {
   "cell_type": "code",
   "execution_count": 25,
   "metadata": {
    "collapsed": true
   },
   "outputs": [],
   "source": [
    "def csvToArff(filename):\n",
    "    myfile=csv.reader(open(filename,'rt'))\n",
    "    address, extension = os.path.splitext(filename)\n",
    "    rel=\"/\".join(address.split('/')[-1:])\n",
    "    arffname=address+'.arff'\n",
    "    file=pd.read_csv(filename,sep=',',header=None)\n",
    "    myARFF = open(arffname,'w+')\n",
    "    myARFF.write('@RELATION '+rel+'\\n\\n\\n')\n",
    "    #ITEMS = list(ITEMS) #So that items will iterate in order\n",
    "    for i in range(len(file.columns)-1): \n",
    "        myARFF.write((\"@ATTRIBUTE \"+str(file.columns[i])+\" REAL\\n\"))\n",
    "    myARFF.write(str(\"@ATTRIBUTE \"+'class'+\" REAL\\n\"))\n",
    "    myARFF.write('\\n\\n@DATA\\n')\n",
    "    next(myfile)\n",
    "    for line in myfile:\n",
    "            #print(word)\n",
    "        myARFF.write(','.join(line))\n",
    "        myARFF.write('\\n')\n",
    "    print('arff generated')"
   ]
  },
  {
   "cell_type": "code",
   "execution_count": 26,
   "metadata": {
    "collapsed": true
   },
   "outputs": [],
   "source": [
    "def main():\n",
    "    path=input('Enter path of the file:\\n')\n",
    "    nChunks=int(input('Enter number of chunks you want to make:'))\n",
    "    address, extension = os.path.splitext(path)\n",
    "    loc=\"/\".join(address.split('/')[:-1])\n",
    "    chunks(path,nChunks)\n",
    "    fileList=glob.glob(loc+'/*'+extension)\n",
    "    for file in fileList:\n",
    "        print(file)\n",
    "        csvToArff(file)"
   ]
  },
  {
   "cell_type": "code",
   "execution_count": 31,
   "metadata": {},
   "outputs": [
    {
     "name": "stdout",
     "output_type": "stream",
     "text": [
      "Enter path of the file:\n",
      "/home/shreyas/Downloads/peersim-1.0.5/Eggeye/eggEye.txt\n",
      "Enter number of chunks you want to make:3\n",
      "Chunks made\n",
      "/home/shreyas/Downloads/peersim-1.0.5/Eggeye/eggEye_test1.txt\n",
      "arff generated\n",
      "/home/shreyas/Downloads/peersim-1.0.5/Eggeye/eggEye_train0.txt\n",
      "arff generated\n",
      "/home/shreyas/Downloads/peersim-1.0.5/Eggeye/eggEye_train2.txt\n",
      "arff generated\n",
      "/home/shreyas/Downloads/peersim-1.0.5/Eggeye/eggEyetest.txt\n",
      "arff generated\n",
      "/home/shreyas/Downloads/peersim-1.0.5/Eggeye/eggEye_test2.txt\n",
      "arff generated\n",
      "/home/shreyas/Downloads/peersim-1.0.5/Eggeye/eggEye_test0.txt\n",
      "arff generated\n",
      "/home/shreyas/Downloads/peersim-1.0.5/Eggeye/eggEye_train1.txt\n",
      "arff generated\n",
      "/home/shreyas/Downloads/peersim-1.0.5/Eggeye/eggEye.txt\n",
      "arff generated\n"
     ]
    }
   ],
   "source": [
    "main()"
   ]
  },
  {
   "cell_type": "code",
   "execution_count": 225,
   "metadata": {
    "collapsed": true
   },
   "outputs": [],
   "source": []
  },
  {
   "cell_type": "code",
   "execution_count": 230,
   "metadata": {},
   "outputs": [
    {
     "data": {
      "text/plain": [
       "35.5"
      ]
     },
     "execution_count": 230,
     "metadata": {},
     "output_type": "execute_result"
    }
   ],
   "source": [
    "time0=pd.read_csv('/home/shreyas/Downloads/peersim-1.0.5/skin/time_Vec.txt',sep=',',header=None)\n",
    "t0=time0[0].sum()\n",
    "t0/c"
   ]
  },
  {
   "cell_type": "code",
   "execution_count": 12,
   "metadata": {},
   "outputs": [
    {
     "data": {
      "text/plain": [
       "12.0"
      ]
     },
     "execution_count": 12,
     "metadata": {},
     "output_type": "execute_result"
    }
   ],
   "source": [
    "new=0\n",
    "import itertools\n",
    "with open('/home/shreyas/Downloads/peersim-1.0.5/skin/final_loss.txt', 'rb') as fn:\n",
    "    last0 = fn.readlines()[-c:]\n",
    "sum([float((x.decode()).strip('\\n')) for x in last0])/len(last0)"
   ]
  },
  {
   "cell_type": "code",
   "execution_count": 4,
   "metadata": {},
   "outputs": [
    {
     "data": {
      "text/plain": [
       "['/home/shreyas/Downloads/HTRU2/loss1.txt',\n",
       " '/home/shreyas/Downloads/HTRU2/loss3.txt',\n",
       " '/home/shreyas/Downloads/HTRU2/loss2.txt']"
      ]
     },
     "execution_count": 4,
     "metadata": {},
     "output_type": "execute_result"
    }
   ],
   "source": [
    "\n",
    "fileList=glob.glob('/home/shreyas/Downloads/HTRU2/loss*.txt')\n",
    "fileList"
   ]
  }
 ],
 "metadata": {
  "kernelspec": {
   "display_name": "Python 3",
   "language": "python",
   "name": "python3"
  },
  "language_info": {
   "codemirror_mode": {
    "name": "ipython",
    "version": 3
   },
   "file_extension": ".py",
   "mimetype": "text/x-python",
   "name": "python",
   "nbconvert_exporter": "python",
   "pygments_lexer": "ipython3",
   "version": "3.6.3"
  }
 },
 "nbformat": 4,
 "nbformat_minor": 2
}
