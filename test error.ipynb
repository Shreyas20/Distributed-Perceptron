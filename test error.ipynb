{
 "cells": [
  {
   "cell_type": "code",
   "execution_count": 69,
   "metadata": {
    "collapsed": true
   },
   "outputs": [],
   "source": [
    "import pandas as pd\n",
    "import numpy as np\n",
    "def testError(datafile,wtvecfile):\n",
    "    test=pd.read_csv(datafile,header=None)\n",
    "    with open(wtvecfile, 'rb') as fn:\n",
    "        wts = fn.readlines()[-len(test.columns):]\n",
    "    wts=([float((x.decode()).strip('\\n')) for x in wts])\n",
    "    totalloss=0\n",
    "    for i in range(len(test.index)):\n",
    "        error=wts[0]\n",
    "        for j in range(len(test.iloc[i])-1):\n",
    "            error+=test.iloc[i][j]*wts[j+1]\n",
    "        if error>0:\n",
    "            error=1\n",
    "        else:\n",
    "            error=-1\n",
    "\n",
    "        loss=abs(test.iloc[i,-1]-error)\n",
    "       # print(loss)\n",
    "        totalloss+=loss\n",
    "    return totalloss/len(test.index)"
   ]
  },
  {
   "cell_type": "markdown",
   "metadata": {},
   "source": [
    "### Centralized test error"
   ]
  },
  {
   "cell_type": "code",
   "execution_count": 119,
   "metadata": {},
   "outputs": [
    {
     "name": "stdout",
     "output_type": "stream",
     "text": [
      "1.08010680908\n"
     ]
    }
   ],
   "source": [
    "error=testError('/home/shreyas/Downloads/peersim-1.0.5/Eggeye/eggEyetest.txt','/home/shreyas/Downloads/peersim-1.0.5/Eggeye/CentwtVec.txt')\n",
    "print(error)"
   ]
  },
  {
   "cell_type": "markdown",
   "metadata": {},
   "source": [
    "### Distributed error"
   ]
  },
  {
   "cell_type": "code",
   "execution_count": 118,
   "metadata": {},
   "outputs": [
    {
     "data": {
      "text/plain": [
       "1.0225433136026065"
      ]
     },
     "execution_count": 118,
     "metadata": {},
     "output_type": "execute_result"
    }
   ],
   "source": [
    "import glob\n",
    "e=[]\n",
    "lossList=glob.glob('/home/shreyas/Downloads/peersim-1.0.5/Eggeye/loss*.txt')\n",
    "wtlist=glob.glob('/home/shreyas/Downloads/peersim-1.0.5/Eggeye/wtVec*.txt')\n",
    "for i in range(len(lossList)):\n",
    "    e.append(testError(lossList[i],wtlist[i]))\n",
    "sum(e)/len(lossList)"
   ]
  },
  {
   "cell_type": "markdown",
   "metadata": {},
   "source": [
    "### Distributed time"
   ]
  },
  {
   "cell_type": "code",
   "execution_count": 117,
   "metadata": {},
   "outputs": [
    {
     "data": {
      "text/plain": [
       "14.0"
      ]
     },
     "execution_count": 117,
     "metadata": {},
     "output_type": "execute_result"
    }
   ],
   "source": [
    "time0=pd.read_csv('/home/shreyas/Downloads/peersim-1.0.5/Eggeye/time_Vec.txt',sep=',',header=None)\n",
    "t0=time0[0].sum()\n",
    "t0/len(lossList)"
   ]
  }
 ],
 "metadata": {
  "kernelspec": {
   "display_name": "Python 3",
   "language": "python",
   "name": "python3"
  },
  "language_info": {
   "codemirror_mode": {
    "name": "ipython",
    "version": 3
   },
   "file_extension": ".py",
   "mimetype": "text/x-python",
   "name": "python",
   "nbconvert_exporter": "python",
   "pygments_lexer": "ipython3",
   "version": "3.6.3"
  }
 },
 "nbformat": 4,
 "nbformat_minor": 2
}
